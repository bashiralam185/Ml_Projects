{
 "cells": [
  {
   "cell_type": "markdown",
   "id": "0ae0e06f",
   "metadata": {},
   "source": [
    "# House Price Prediction using XGBoost Algorithm"
   ]
  },
  {
   "cell_type": "markdown",
   "id": "d127256b",
   "metadata": {},
   "source": [
    "##### Load Dataset"
   ]
  },
  {
   "cell_type": "markdown",
   "id": "2f438df7",
   "metadata": {},
   "source": [
    "##### Splitting dataset"
   ]
  },
  {
   "cell_type": "markdown",
   "id": "9b5c6ad5",
   "metadata": {},
   "source": [
    "###### Regression model"
   ]
  },
  {
   "cell_type": "markdown",
   "id": "a165864b",
   "metadata": {},
   "source": [
    "###### Evaluate the model"
   ]
  }
 ],
 "metadata": {
  "kernelspec": {
   "display_name": "Python 3 (ipykernel)",
   "language": "python",
   "name": "python3"
  },
  "language_info": {
   "codemirror_mode": {
    "name": "ipython",
    "version": 3
   },
   "file_extension": ".py",
   "mimetype": "text/x-python",
   "name": "python",
   "nbconvert_exporter": "python",
   "pygments_lexer": "ipython3",
   "version": "3.10.12"
  }
 },
 "nbformat": 4,
 "nbformat_minor": 5
}
